{
 "cells": [
  {
   "cell_type": "markdown",
   "metadata": {
    "id": "0R4s5j2NBUFD"
   },
   "source": [
    "### Recommender Systems"
   ]
  },
  {
   "cell_type": "code",
   "execution_count": 1,
   "metadata": {
    "id": "RUnijFXCBXem"
   },
   "outputs": [],
   "source": [
    "import pandas as pd\n",
    "import numpy as np\n",
    "import latent_factor_model\n",
    "\n",
    "import matplotlib.pyplot as plt"
   ]
  },
  {
   "cell_type": "code",
   "execution_count": 2,
   "metadata": {
    "id": "2Qj5rRdBBiN4"
   },
   "outputs": [],
   "source": [
    "jokes_data = pd.read_csv('dataset/jester-data-1.csv', header=None)"
   ]
  },
  {
   "cell_type": "markdown",
   "metadata": {
    "id": "HZxwYRBbabuD"
   },
   "source": [
    "#### Data Analysis and Preprocessing"
   ]
  },
  {
   "cell_type": "code",
   "execution_count": 3,
   "metadata": {
    "colab": {
     "base_uri": "https://localhost:8080/",
     "height": 253
    },
    "id": "1mMyJ3ZyBpOF",
    "outputId": "24ac20d1-59b9-481e-8349-3ff8cd058d2f"
   },
   "outputs": [
    {
     "data": {
      "text/html": [
       "<div>\n",
       "<style scoped>\n",
       "    .dataframe tbody tr th:only-of-type {\n",
       "        vertical-align: middle;\n",
       "    }\n",
       "\n",
       "    .dataframe tbody tr th {\n",
       "        vertical-align: top;\n",
       "    }\n",
       "\n",
       "    .dataframe thead th {\n",
       "        text-align: right;\n",
       "    }\n",
       "</style>\n",
       "<table border=\"1\" class=\"dataframe\">\n",
       "  <thead>\n",
       "    <tr style=\"text-align: right;\">\n",
       "      <th></th>\n",
       "      <th>0</th>\n",
       "      <th>1</th>\n",
       "      <th>2</th>\n",
       "      <th>3</th>\n",
       "      <th>4</th>\n",
       "      <th>5</th>\n",
       "      <th>6</th>\n",
       "      <th>7</th>\n",
       "      <th>8</th>\n",
       "      <th>9</th>\n",
       "      <th>...</th>\n",
       "      <th>91</th>\n",
       "      <th>92</th>\n",
       "      <th>93</th>\n",
       "      <th>94</th>\n",
       "      <th>95</th>\n",
       "      <th>96</th>\n",
       "      <th>97</th>\n",
       "      <th>98</th>\n",
       "      <th>99</th>\n",
       "      <th>100</th>\n",
       "    </tr>\n",
       "  </thead>\n",
       "  <tbody>\n",
       "    <tr>\n",
       "      <th>0</th>\n",
       "      <td>74</td>\n",
       "      <td>-7.82</td>\n",
       "      <td>8.79</td>\n",
       "      <td>-9.66</td>\n",
       "      <td>-8.16</td>\n",
       "      <td>-7.52</td>\n",
       "      <td>-8.50</td>\n",
       "      <td>-9.85</td>\n",
       "      <td>4.17</td>\n",
       "      <td>-8.98</td>\n",
       "      <td>...</td>\n",
       "      <td>2.82</td>\n",
       "      <td>99.00</td>\n",
       "      <td>99.00</td>\n",
       "      <td>99.00</td>\n",
       "      <td>99.00</td>\n",
       "      <td>99.00</td>\n",
       "      <td>-5.63</td>\n",
       "      <td>99.00</td>\n",
       "      <td>99.00</td>\n",
       "      <td>99.00</td>\n",
       "    </tr>\n",
       "    <tr>\n",
       "      <th>1</th>\n",
       "      <td>100</td>\n",
       "      <td>4.08</td>\n",
       "      <td>-0.29</td>\n",
       "      <td>6.36</td>\n",
       "      <td>4.37</td>\n",
       "      <td>-2.38</td>\n",
       "      <td>-9.66</td>\n",
       "      <td>-0.73</td>\n",
       "      <td>-5.34</td>\n",
       "      <td>8.88</td>\n",
       "      <td>...</td>\n",
       "      <td>2.82</td>\n",
       "      <td>-4.95</td>\n",
       "      <td>-0.29</td>\n",
       "      <td>7.86</td>\n",
       "      <td>-0.19</td>\n",
       "      <td>-2.14</td>\n",
       "      <td>3.06</td>\n",
       "      <td>0.34</td>\n",
       "      <td>-4.32</td>\n",
       "      <td>1.07</td>\n",
       "    </tr>\n",
       "    <tr>\n",
       "      <th>2</th>\n",
       "      <td>49</td>\n",
       "      <td>99.00</td>\n",
       "      <td>99.00</td>\n",
       "      <td>99.00</td>\n",
       "      <td>99.00</td>\n",
       "      <td>9.03</td>\n",
       "      <td>9.27</td>\n",
       "      <td>9.03</td>\n",
       "      <td>9.27</td>\n",
       "      <td>99.00</td>\n",
       "      <td>...</td>\n",
       "      <td>99.00</td>\n",
       "      <td>99.00</td>\n",
       "      <td>99.00</td>\n",
       "      <td>9.08</td>\n",
       "      <td>99.00</td>\n",
       "      <td>99.00</td>\n",
       "      <td>99.00</td>\n",
       "      <td>99.00</td>\n",
       "      <td>99.00</td>\n",
       "      <td>99.00</td>\n",
       "    </tr>\n",
       "    <tr>\n",
       "      <th>3</th>\n",
       "      <td>48</td>\n",
       "      <td>99.00</td>\n",
       "      <td>8.35</td>\n",
       "      <td>99.00</td>\n",
       "      <td>99.00</td>\n",
       "      <td>1.80</td>\n",
       "      <td>8.16</td>\n",
       "      <td>-2.82</td>\n",
       "      <td>6.21</td>\n",
       "      <td>99.00</td>\n",
       "      <td>...</td>\n",
       "      <td>99.00</td>\n",
       "      <td>99.00</td>\n",
       "      <td>99.00</td>\n",
       "      <td>0.53</td>\n",
       "      <td>99.00</td>\n",
       "      <td>99.00</td>\n",
       "      <td>99.00</td>\n",
       "      <td>99.00</td>\n",
       "      <td>99.00</td>\n",
       "      <td>99.00</td>\n",
       "    </tr>\n",
       "    <tr>\n",
       "      <th>4</th>\n",
       "      <td>91</td>\n",
       "      <td>8.50</td>\n",
       "      <td>4.61</td>\n",
       "      <td>-4.17</td>\n",
       "      <td>-5.39</td>\n",
       "      <td>1.36</td>\n",
       "      <td>1.60</td>\n",
       "      <td>7.04</td>\n",
       "      <td>4.61</td>\n",
       "      <td>-0.44</td>\n",
       "      <td>...</td>\n",
       "      <td>5.19</td>\n",
       "      <td>5.58</td>\n",
       "      <td>4.27</td>\n",
       "      <td>5.19</td>\n",
       "      <td>5.73</td>\n",
       "      <td>1.55</td>\n",
       "      <td>3.11</td>\n",
       "      <td>6.55</td>\n",
       "      <td>1.80</td>\n",
       "      <td>1.60</td>\n",
       "    </tr>\n",
       "  </tbody>\n",
       "</table>\n",
       "<p>5 rows × 101 columns</p>\n",
       "</div>"
      ],
      "text/plain": [
       "   0      1      2      3      4     5     6     7     8      9    ...    91   \\\n",
       "0   74  -7.82   8.79  -9.66  -8.16 -7.52 -8.50 -9.85  4.17  -8.98  ...   2.82   \n",
       "1  100   4.08  -0.29   6.36   4.37 -2.38 -9.66 -0.73 -5.34   8.88  ...   2.82   \n",
       "2   49  99.00  99.00  99.00  99.00  9.03  9.27  9.03  9.27  99.00  ...  99.00   \n",
       "3   48  99.00   8.35  99.00  99.00  1.80  8.16 -2.82  6.21  99.00  ...  99.00   \n",
       "4   91   8.50   4.61  -4.17  -5.39  1.36  1.60  7.04  4.61  -0.44  ...   5.19   \n",
       "\n",
       "     92     93     94     95     96     97     98     99     100  \n",
       "0  99.00  99.00  99.00  99.00  99.00  -5.63  99.00  99.00  99.00  \n",
       "1  -4.95  -0.29   7.86  -0.19  -2.14   3.06   0.34  -4.32   1.07  \n",
       "2  99.00  99.00   9.08  99.00  99.00  99.00  99.00  99.00  99.00  \n",
       "3  99.00  99.00   0.53  99.00  99.00  99.00  99.00  99.00  99.00  \n",
       "4   5.58   4.27   5.19   5.73   1.55   3.11   6.55   1.80   1.60  \n",
       "\n",
       "[5 rows x 101 columns]"
      ]
     },
     "execution_count": 3,
     "metadata": {},
     "output_type": "execute_result"
    }
   ],
   "source": [
    "jokes_data.head()"
   ]
  },
  {
   "cell_type": "code",
   "execution_count": 4,
   "metadata": {
    "colab": {
     "base_uri": "https://localhost:8080/"
    },
    "id": "wSN9OUqwBqhk",
    "outputId": "14899c93-ff3a-49e6-c64a-1f499e45ae74"
   },
   "outputs": [
    {
     "data": {
      "text/plain": [
       "(24983, 101)"
      ]
     },
     "execution_count": 4,
     "metadata": {},
     "output_type": "execute_result"
    }
   ],
   "source": [
    "jokes_data.shape"
   ]
  },
  {
   "cell_type": "markdown",
   "metadata": {
    "id": "YtJvazwRCpmH"
   },
   "source": [
    "#### In this matrix, ratings are real values ranging from -10.00 to +10.00 (the value \"99\" corresponds to \"null\" = \"not rated\")."
   ]
  },
  {
   "cell_type": "code",
   "execution_count": 5,
   "metadata": {
    "id": "8wbLffksCTVj"
   },
   "outputs": [],
   "source": [
    "jokes_data.replace(99, np.nan, inplace=True)"
   ]
  },
  {
   "cell_type": "markdown",
   "metadata": {
    "id": "nKjg_7sjDmlf"
   },
   "source": [
    "#### The first column gives the number of jokes rated by the indexed user. The next 100 columns give the ratings for jokes 01 - 100."
   ]
  },
  {
   "cell_type": "code",
   "execution_count": 6,
   "metadata": {
    "id": "3ssIk_XMDX7G"
   },
   "outputs": [],
   "source": [
    "# Since we don't need this feature of 'number of jokes rated by a particular user', we are going to remove it from our matrix.\n",
    "jokes_data.drop(0, axis=1, inplace=True)"
   ]
  },
  {
   "cell_type": "code",
   "execution_count": 7,
   "metadata": {
    "id": "R-XMqJniFA24"
   },
   "outputs": [],
   "source": [
    "#worst rated jokes by users\n",
    "worst_jokes = jokes_data.idxmin(axis=1).value_counts().sort_index()\n",
    "\n",
    "#best rated jokes by users\n",
    "best_jokes = jokes_data.idxmax(axis=1).value_counts().sort_index()"
   ]
  },
  {
   "cell_type": "code",
   "execution_count": 8,
   "metadata": {
    "colab": {
     "base_uri": "https://localhost:8080/",
     "height": 251
    },
    "id": "y7cAeUWOJ6v-",
    "outputId": "b89908e3-b77a-447e-c86c-3be5fdf37790"
   },
   "outputs": [
    {
     "data": {
      "image/png": "[encoded data removed]",
      "text/plain": [
       "<Figure size 1080x216 with 3 Axes>"
      ]
     },
     "metadata": {
      "needs_background": "light"
     },
     "output_type": "display_data"
    }
   ],
   "source": [
    "fig, axs = plt.subplots(1,3, figsize=(15,3))\n",
    "fig.tight_layout()\n",
    "\n",
    "axs[0].plot(worst_jokes.sort_index().index, worst_jokes.sort_index(), 'r', label='worst')\n",
    "axs[0].plot(best_jokes.sort_index().index, best_jokes.sort_index(), 'b', label='best')\n",
    "axs[0].set_title('All Jokes Best & Worst Rating Counts')\n",
    "axs[0].legend()\n",
    "\n",
    "worst10 = worst_jokes.sort_values(ascending=False)[:10].sort_index()\n",
    "best10 = best_jokes.sort_values(ascending=False)[:10].sort_index()\n",
    "axs[1].bar(worst10.index, worst10)\n",
    "axs[1].set_title('Top 10 Worst Jokes')\n",
    "\n",
    "axs[2].bar(best10.index, best10)\n",
    "axs[2].set_title('Top 10 Best Jokes')\n",
    "\n",
    "for ax in axs.flat:\n",
    "    ax.set(xlabel='Jokes', ylabel='Counts')"
   ]
  },
  {
   "cell_type": "code",
   "execution_count": 9,
   "metadata": {
    "colab": {
     "base_uri": "https://localhost:8080/"
    },
    "id": "uzBFCH4SJ7xO",
    "outputId": "91bb8ace-9dff-4c01-859c-f54e5bf512c9"
   },
   "outputs": [
    {
     "data": {
      "text/plain": [
       "(array([    0,     0,     0, ..., 24982, 24982, 24982], dtype=int64),\n",
       " array([ 0,  1,  2, ..., 97, 98, 99], dtype=int64))"
      ]
     },
     "execution_count": 9,
     "metadata": {},
     "output_type": "execute_result"
    }
   ],
   "source": [
    "rated = np.where(jokes_data!=4.08)\n",
    "rated"
   ]
  },
  {
   "cell_type": "code",
   "execution_count": 10,
   "metadata": {
    "id": "PHN20aYKUz2E"
   },
   "outputs": [],
   "source": [
    "def replace(orig, percentage=0.1):\n",
    "    \"\"\"\n",
    "    Replaces 'percentage'% of the original values in 'orig' with 99's\n",
    "    :param orig: original data array\n",
    "    :param percentage: percentage of values to replace (0<percentage<1)\n",
    "    \"\"\"\n",
    "    \n",
    "    new_data = orig.copy()\n",
    "    rated = np.where(jokes_data_array!=np.NaN)\n",
    "    n_rated = len(rated[0])\n",
    "    idx = np.random.choice(n_rated, size=int(percentage*n_rated), replace=False)\n",
    "    new_data[rated[0][idx], rated[1][idx]] = np.NaN\n",
    "    return new_data, (rated[0][idx], rated[1][idx])"
   ]
  },
  {
   "cell_type": "code",
   "execution_count": 11,
   "metadata": {
    "id": "np7CTIEVqyEy"
   },
   "outputs": [],
   "source": [
    "jokes_data_array = jokes_data.to_numpy()\n",
    "training_data, validation_idx = replace(jokes_data_array)"
   ]
  },
  {
   "cell_type": "markdown",
   "metadata": {
    "id": "oIIqV21eaiBS"
   },
   "source": [
    "#### Training the model and making predictions"
   ]
  },
  {
   "cell_type": "code",
   "execution_count": 13,
   "metadata": {
    "id": "F06MClNRc7yW"
   },
   "outputs": [],
   "source": [
    "model = latent_factor_model.lf_model(training_data)"
   ]
  },
  {
   "cell_type": "code",
   "execution_count": 14,
   "metadata": {
    "colab": {
     "base_uri": "https://localhost:8080/"
    },
    "id": "WERIpd8GdMjp",
    "outputId": "2086ea01-8420-4d77-eb5e-054b08429559"
   },
   "outputs": [
    {
     "name": "stdout",
     "output_type": "stream",
     "text": [
      "(24983, 2)\n",
      "(100, 2)\n"
     ]
    }
   ],
   "source": [
    "print(model.latent_user_preferences.shape)\n",
    "print(model.latent_item_features.shape)"
   ]
  },
  {
   "cell_type": "code",
   "execution_count": 15,
   "metadata": {
    "colab": {
     "base_uri": "https://localhost:8080/",
     "height": 296
    },
    "id": "pIS6Cio6dSdj",
    "outputId": "a8555eb5-1729-4817-ea24-31480bdc2c9f",
    "tags": []
   },
   "outputs": [
    {
     "name": "stdout",
     "output_type": "stream",
     "text": [
      "Iteration 0/10:\tMSE=26.167491\n",
      "Iteration 2/10:\tMSE=24.977219\n",
      "Iteration 4/10:\tMSE=24.544533\n",
      "Iteration 6/10:\tMSE=24.113353\n",
      "Iteration 8/10:\tMSE=23.677396\n"
     ]
    },
    {
     "data": {
      "image/png": "[encoded data removed]",
      "text/plain": [
       "<Figure size 432x288 with 1 Axes>"
      ]
     },
     "metadata": {
      "needs_background": "light"
     },
     "output_type": "display_data"
    }
   ],
   "source": [
    "num_iter = 10\n",
    "hist = model.train(num_iter)\n",
    "plt.figure()\n",
    "plt.plot(np.arange(0, num_iter, 2), hist)\n",
    "plt.xlabel(\"Iterations\")\n",
    "plt.ylabel(\"MSE\")\n",
    "plt.show()"
   ]
  },
  {
   "cell_type": "markdown",
   "metadata": {
    "id": "MWertp4NlntI"
   },
   "source": [
    " Note how the MSE decreases with the number of iterations"
   ]
  },
  {
   "cell_type": "code",
   "execution_count": 16,
   "metadata": {
    "id": "Hnqo0oVolijn"
   },
   "outputs": [
    {
     "name": "stdout",
     "output_type": "stream",
     "text": [
      "(24983, 100)\n",
      "[[1.09501396 0.66941775 0.70438493 ... 1.28490654 0.47191729 1.7335851 ]\n",
      " [0.80976891 0.47053938 0.4541537  ... 0.81997915 0.32241876 1.20521783]\n",
      " [2.11136132 1.30526145 1.39771662 ... 2.55466766 0.92567451 3.38812503]\n",
      " ...\n",
      " [0.81512424 0.52817169 0.6056892  ... 1.11519023 0.38367354 1.38405292]\n",
      " [0.43779979 0.26028829 0.26158956 ... 0.47463833 0.18070457 0.67006429]\n",
      " [1.20501054 0.74509105 0.79810484 ... 1.45877918 0.5284627  1.93414302]]\n"
     ]
    }
   ],
   "source": [
    "predictions = model.latent_user_preferences.dot(model.latent_item_features.T)\n",
    "print(predictions.shape)\n",
    "print(predictions)"
   ]
  },
  {
   "cell_type": "code",
   "execution_count": 17,
   "metadata": {
    "id": "cO0bassYmhoB"
   },
   "outputs": [],
   "source": [
    "values = [zip(training_data[i], predictions[i]) for i in range(predictions.shape[0])]\n",
    "comparison_data = pd.DataFrame(values)\n",
    "comparison_data.columns = jokes_data.columns"
   ]
  },
  {
   "cell_type": "markdown",
   "metadata": {},
   "source": [
    "#### Final snapshot of the data\n",
    "with each data point as (original value, prediction)"
   ]
  },
  {
   "cell_type": "code",
   "execution_count": 18,
   "metadata": {},
   "outputs": [
    {
     "data": {
      "text/html": [
       "<div>\n",
       "<style scoped>\n",
       "    .dataframe tbody tr th:only-of-type {\n",
       "        vertical-align: middle;\n",
       "    }\n",
       "\n",
       "    .dataframe tbody tr th {\n",
       "        vertical-align: top;\n",
       "    }\n",
       "\n",
       "    .dataframe thead th {\n",
       "        text-align: right;\n",
       "    }\n",
       "</style>\n",
       "<table border=\"1\" class=\"dataframe\">\n",
       "  <thead>\n",
       "    <tr style=\"text-align: right;\">\n",
       "      <th></th>\n",
       "      <th>1</th>\n",
       "      <th>2</th>\n",
       "      <th>3</th>\n",
       "      <th>4</th>\n",
       "      <th>5</th>\n",
       "      <th>6</th>\n",
       "      <th>7</th>\n",
       "      <th>8</th>\n",
       "      <th>9</th>\n",
       "      <th>10</th>\n",
       "      <th>...</th>\n",
       "      <th>91</th>\n",
       "      <th>92</th>\n",
       "      <th>93</th>\n",
       "      <th>94</th>\n",
       "      <th>95</th>\n",
       "      <th>96</th>\n",
       "      <th>97</th>\n",
       "      <th>98</th>\n",
       "      <th>99</th>\n",
       "      <th>100</th>\n",
       "    </tr>\n",
       "  </thead>\n",
       "  <tbody>\n",
       "    <tr>\n",
       "      <th>0</th>\n",
       "      <td>(-7.82, 1.0950139613121064)</td>\n",
       "      <td>(nan, 0.6694177525272315)</td>\n",
       "      <td>(-9.66, 0.7043849333809115)</td>\n",
       "      <td>(-8.16, -0.6914932212327661)</td>\n",
       "      <td>(-7.52, 0.7418463068228887)</td>\n",
       "      <td>(-8.5, 1.895641697924576)</td>\n",
       "      <td>(nan, -0.001727295306820937)</td>\n",
       "      <td>(4.17, -0.34075535963483244)</td>\n",
       "      <td>(nan, -0.07345037006076881)</td>\n",
       "      <td>(-4.76, 1.3825962645601644)</td>\n",
       "      <td>...</td>\n",
       "      <td>(2.82, 2.0901439221211953)</td>\n",
       "      <td>(nan, 1.505864449654606)</td>\n",
       "      <td>(nan, 2.5209931984298652)</td>\n",
       "      <td>(nan, 1.3560974061397129)</td>\n",
       "      <td>(nan, 1.2717154198882838)</td>\n",
       "      <td>(nan, 1.6947711738343063)</td>\n",
       "      <td>(-5.63, 1.8168698524037958)</td>\n",
       "      <td>(nan, 1.2849065375321018)</td>\n",
       "      <td>(nan, 0.4719172926671351)</td>\n",
       "      <td>(nan, 1.7335850984173278)</td>\n",
       "    </tr>\n",
       "    <tr>\n",
       "      <th>1</th>\n",
       "      <td>(nan, 0.8097689052726282)</td>\n",
       "      <td>(-0.29, 0.4705393800121926)</td>\n",
       "      <td>(6.36, 0.4541537007321023)</td>\n",
       "      <td>(4.37, -0.4741551359549921)</td>\n",
       "      <td>(-2.38, 0.4218003085219904)</td>\n",
       "      <td>(-9.66, 1.2675714494014967)</td>\n",
       "      <td>(-0.73, -0.08257881402778729)</td>\n",
       "      <td>(-5.34, -0.2463876530461764)</td>\n",
       "      <td>(8.88, 0.030229037798397605)</td>\n",
       "      <td>(9.22, 1.0402952515236084)</td>\n",
       "      <td>...</td>\n",
       "      <td>(2.82, 1.4638612363323618)</td>\n",
       "      <td>(-4.95, 1.1466245737196747)</td>\n",
       "      <td>(-0.29, 1.953220167147285)</td>\n",
       "      <td>(7.86, 1.03073055341922)</td>\n",
       "      <td>(-0.19, 0.9690272193956169)</td>\n",
       "      <td>(-2.14, 1.203710421431944)</td>\n",
       "      <td>(3.06, 1.1438980319136132)</td>\n",
       "      <td>(0.34, 0.8199791465878793)</td>\n",
       "      <td>(-4.32, 0.3224187617440039)</td>\n",
       "      <td>(1.07, 1.2052178268592497)</td>\n",
       "    </tr>\n",
       "    <tr>\n",
       "      <th>2</th>\n",
       "      <td>(nan, 2.111361320330507)</td>\n",
       "      <td>(nan, 1.3052614454679246)</td>\n",
       "      <td>(nan, 1.3977166158289966)</td>\n",
       "      <td>(nan, -1.3553576279913349)</td>\n",
       "      <td>(9.03, 1.5055360729576934)</td>\n",
       "      <td>(9.27, 3.7346620983264045)</td>\n",
       "      <td>(9.03, 0.04484686547670862)</td>\n",
       "      <td>(9.27, -0.6603507112950097)</td>\n",
       "      <td>(nan, -0.1917240080236951)</td>\n",
       "      <td>(nan, 2.6552837831729414)</td>\n",
       "      <td>...</td>\n",
       "      <td>(nan, 4.078610155773689)</td>\n",
       "      <td>(nan, 2.8839740112746353)</td>\n",
       "      <td>(nan, 4.8081775433267175)</td>\n",
       "      <td>(9.08, 2.5982454153493326)</td>\n",
       "      <td>(nan, 2.4351301168049413)</td>\n",
       "      <td>(nan, 3.297170054935276)</td>\n",
       "      <td>(nan, 3.6215445207063177)</td>\n",
       "      <td>(nan, 2.5546676553244376)</td>\n",
       "      <td>(nan, 0.9256745111743545)</td>\n",
       "      <td>(nan, 3.3881250290838087)</td>\n",
       "    </tr>\n",
       "    <tr>\n",
       "      <th>3</th>\n",
       "      <td>(nan, 1.4344962118619864)</td>\n",
       "      <td>(8.35, 0.869651371966479)</td>\n",
       "      <td>(nan, 0.9028665242272981)</td>\n",
       "      <td>(nan, -0.894782260085169)</td>\n",
       "      <td>(1.8, 0.9340394140519401)</td>\n",
       "      <td>(8.16, 2.4433149366872895)</td>\n",
       "      <td>(-2.82, -0.026498343637520776)</td>\n",
       "      <td>(nan, -0.44472803665950306)</td>\n",
       "      <td>(nan, -0.07101913913706888)</td>\n",
       "      <td>(1.84, 1.816559630246679)</td>\n",
       "      <td>...</td>\n",
       "      <td>(nan, 2.713754166130139)</td>\n",
       "      <td>(nan, 1.982566734637373)</td>\n",
       "      <td>(nan, 3.3290754482354594)</td>\n",
       "      <td>(nan, 1.784835744404239)</td>\n",
       "      <td>(nan, 1.6745011456042327)</td>\n",
       "      <td>(nan, 2.2054132376857263)</td>\n",
       "      <td>(nan, 2.3206200928461915)</td>\n",
       "      <td>(nan, 1.6444435092666523)</td>\n",
       "      <td>(nan, 0.6103042938028398)</td>\n",
       "      <td>(nan, 2.2481535705502544)</td>\n",
       "    </tr>\n",
       "    <tr>\n",
       "      <th>4</th>\n",
       "      <td>(8.5, 1.2497116495791647)</td>\n",
       "      <td>(nan, 0.7633410360846724)</td>\n",
       "      <td>(-4.17, 0.8021300305780508)</td>\n",
       "      <td>(-5.39, -0.7881988084314713)</td>\n",
       "      <td>(1.36, 0.8432941120429917)</td>\n",
       "      <td>(1.6, 2.159893872570337)</td>\n",
       "      <td>(7.04, -0.004123291888473141)</td>\n",
       "      <td>(4.61, -0.3887471441648106)</td>\n",
       "      <td>(-0.44, -0.08158919054056808)</td>\n",
       "      <td>(5.73, 1.5783947101343245)</td>\n",
       "      <td>...</td>\n",
       "      <td>(nan, 2.3832627422216928)</td>\n",
       "      <td>(5.58, 1.7194791457183738)</td>\n",
       "      <td>(4.27, 2.8794995091949076)</td>\n",
       "      <td>(5.19, 1.5484177559376207)</td>\n",
       "      <td>(5.73, 1.4521332012771238)</td>\n",
       "      <td>(1.55, 1.9328869419934003)</td>\n",
       "      <td>(3.11, 2.068261926242675)</td>\n",
       "      <td>(6.55, 1.462984523387921)</td>\n",
       "      <td>(1.8, 0.5378840363437475)</td>\n",
       "      <td>(1.6, 1.976464444425123)</td>\n",
       "    </tr>\n",
       "  </tbody>\n",
       "</table>\n",
       "<p>5 rows × 100 columns</p>\n",
       "</div>"
      ],
      "text/plain": [
       "                           1                            2    \\\n",
       "0  (-7.82, 1.0950139613121064)    (nan, 0.6694177525272315)   \n",
       "1    (nan, 0.8097689052726282)  (-0.29, 0.4705393800121926)   \n",
       "2     (nan, 2.111361320330507)    (nan, 1.3052614454679246)   \n",
       "3    (nan, 1.4344962118619864)    (8.35, 0.869651371966479)   \n",
       "4    (8.5, 1.2497116495791647)    (nan, 0.7633410360846724)   \n",
       "\n",
       "                           3                             4    \\\n",
       "0  (-9.66, 0.7043849333809115)  (-8.16, -0.6914932212327661)   \n",
       "1   (6.36, 0.4541537007321023)   (4.37, -0.4741551359549921)   \n",
       "2    (nan, 1.3977166158289966)    (nan, -1.3553576279913349)   \n",
       "3    (nan, 0.9028665242272981)     (nan, -0.894782260085169)   \n",
       "4  (-4.17, 0.8021300305780508)  (-5.39, -0.7881988084314713)   \n",
       "\n",
       "                           5                            6    \\\n",
       "0  (-7.52, 0.7418463068228887)    (-8.5, 1.895641697924576)   \n",
       "1  (-2.38, 0.4218003085219904)  (-9.66, 1.2675714494014967)   \n",
       "2   (9.03, 1.5055360729576934)   (9.27, 3.7346620983264045)   \n",
       "3    (1.8, 0.9340394140519401)   (8.16, 2.4433149366872895)   \n",
       "4   (1.36, 0.8432941120429917)     (1.6, 2.159893872570337)   \n",
       "\n",
       "                              7                             8    \\\n",
       "0    (nan, -0.001727295306820937)  (4.17, -0.34075535963483244)   \n",
       "1   (-0.73, -0.08257881402778729)  (-5.34, -0.2463876530461764)   \n",
       "2     (9.03, 0.04484686547670862)   (9.27, -0.6603507112950097)   \n",
       "3  (-2.82, -0.026498343637520776)   (nan, -0.44472803665950306)   \n",
       "4   (7.04, -0.004123291888473141)   (4.61, -0.3887471441648106)   \n",
       "\n",
       "                             9                            10   ...  \\\n",
       "0    (nan, -0.07345037006076881)  (-4.76, 1.3825962645601644)  ...   \n",
       "1   (8.88, 0.030229037798397605)   (9.22, 1.0402952515236084)  ...   \n",
       "2     (nan, -0.1917240080236951)    (nan, 2.6552837831729414)  ...   \n",
       "3    (nan, -0.07101913913706888)    (1.84, 1.816559630246679)  ...   \n",
       "4  (-0.44, -0.08158919054056808)   (5.73, 1.5783947101343245)  ...   \n",
       "\n",
       "                          91                           92   \\\n",
       "0  (2.82, 2.0901439221211953)     (nan, 1.505864449654606)   \n",
       "1  (2.82, 1.4638612363323618)  (-4.95, 1.1466245737196747)   \n",
       "2    (nan, 4.078610155773689)    (nan, 2.8839740112746353)   \n",
       "3    (nan, 2.713754166130139)     (nan, 1.982566734637373)   \n",
       "4   (nan, 2.3832627422216928)   (5.58, 1.7194791457183738)   \n",
       "\n",
       "                          93                          94   \\\n",
       "0   (nan, 2.5209931984298652)   (nan, 1.3560974061397129)   \n",
       "1  (-0.29, 1.953220167147285)    (7.86, 1.03073055341922)   \n",
       "2   (nan, 4.8081775433267175)  (9.08, 2.5982454153493326)   \n",
       "3   (nan, 3.3290754482354594)    (nan, 1.784835744404239)   \n",
       "4  (4.27, 2.8794995091949076)  (5.19, 1.5484177559376207)   \n",
       "\n",
       "                           95                          96   \\\n",
       "0    (nan, 1.2717154198882838)   (nan, 1.6947711738343063)   \n",
       "1  (-0.19, 0.9690272193956169)  (-2.14, 1.203710421431944)   \n",
       "2    (nan, 2.4351301168049413)    (nan, 3.297170054935276)   \n",
       "3    (nan, 1.6745011456042327)   (nan, 2.2054132376857263)   \n",
       "4   (5.73, 1.4521332012771238)  (1.55, 1.9328869419934003)   \n",
       "\n",
       "                           97                          98   \\\n",
       "0  (-5.63, 1.8168698524037958)   (nan, 1.2849065375321018)   \n",
       "1   (3.06, 1.1438980319136132)  (0.34, 0.8199791465878793)   \n",
       "2    (nan, 3.6215445207063177)   (nan, 2.5546676553244376)   \n",
       "3    (nan, 2.3206200928461915)   (nan, 1.6444435092666523)   \n",
       "4    (3.11, 2.068261926242675)   (6.55, 1.462984523387921)   \n",
       "\n",
       "                           99                          100  \n",
       "0    (nan, 0.4719172926671351)   (nan, 1.7335850984173278)  \n",
       "1  (-4.32, 0.3224187617440039)  (1.07, 1.2052178268592497)  \n",
       "2    (nan, 0.9256745111743545)   (nan, 3.3881250290838087)  \n",
       "3    (nan, 0.6103042938028398)   (nan, 2.2481535705502544)  \n",
       "4    (1.8, 0.5378840363437475)    (1.6, 1.976464444425123)  \n",
       "\n",
       "[5 rows x 100 columns]"
      ]
     },
     "execution_count": 18,
     "metadata": {},
     "output_type": "execute_result"
    }
   ],
   "source": [
    "comparison_data.head()"
   ]
  }
 ],
 "metadata": {
  "accelerator": "GPU",
  "colab": {
   "collapsed_sections": [],
   "name": "Recommender System.ipynb",
   "provenance": []
  },
  "kernelspec": {
   "display_name": "Python 3",
   "language": "python",
   "name": "python3"
  },
  "language_info": {
   "codemirror_mode": {
    "name": "ipython",
    "version": 3
   },
   "file_extension": ".py",
   "mimetype": "text/x-python",
   "name": "python",
   "nbconvert_exporter": "python",
   "pygments_lexer": "ipython3",
   "version": "3.8.8"
  }
 },
 "nbformat": 4,
 "nbformat_minor": 4
}
